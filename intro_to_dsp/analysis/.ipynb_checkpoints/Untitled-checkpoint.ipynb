{
 "cells": [
  {
   "cell_type": "code",
   "execution_count": 1,
   "id": "unique-wright",
   "metadata": {
    "execution": {
     "iopub.execute_input": "2021-09-05T04:19:29.301832Z",
     "iopub.status.busy": "2021-09-05T04:19:29.301832Z",
     "iopub.status.idle": "2021-09-05T04:19:33.091063Z",
     "shell.execute_reply": "2021-09-05T04:19:33.089475Z",
     "shell.execute_reply.started": "2021-09-05T04:19:29.301832Z"
    },
    "tags": []
   },
   "outputs": [
    {
     "name": "stdout",
     "output_type": "stream",
     "text": [
      "Populating the interactive namespace from numpy and matplotlib\n"
     ]
    }
   ],
   "source": [
    "%pylab inline"
   ]
  },
  {
   "cell_type": "code",
   "execution_count": 2,
   "id": "delayed-plane",
   "metadata": {
    "execution": {
     "iopub.execute_input": "2021-09-05T04:19:33.096776Z",
     "iopub.status.busy": "2021-09-05T04:19:33.095747Z",
     "iopub.status.idle": "2021-09-05T04:19:33.125909Z",
     "shell.execute_reply": "2021-09-05T04:19:33.124568Z",
     "shell.execute_reply.started": "2021-09-05T04:19:33.096776Z"
    },
    "tags": []
   },
   "outputs": [],
   "source": [
    "import celluloid"
   ]
  },
  {
   "cell_type": "code",
   "execution_count": 3,
   "id": "random-member",
   "metadata": {
    "execution": {
     "iopub.execute_input": "2021-09-05T04:19:33.131698Z",
     "iopub.status.busy": "2021-09-05T04:19:33.130700Z",
     "iopub.status.idle": "2021-09-05T04:19:33.165760Z",
     "shell.execute_reply": "2021-09-05T04:19:33.164760Z",
     "shell.execute_reply.started": "2021-09-05T04:19:33.130700Z"
    },
    "tags": []
   },
   "outputs": [],
   "source": [
    "import sys"
   ]
  },
  {
   "cell_type": "code",
   "execution_count": 4,
   "id": "stopped-designation",
   "metadata": {
    "execution": {
     "iopub.execute_input": "2021-09-05T04:19:33.170172Z",
     "iopub.status.busy": "2021-09-05T04:19:33.170172Z",
     "iopub.status.idle": "2021-09-05T04:19:33.184598Z",
     "shell.execute_reply": "2021-09-05T04:19:33.184000Z",
     "shell.execute_reply.started": "2021-09-05T04:19:33.170172Z"
    },
    "tags": []
   },
   "outputs": [],
   "source": [
    "from matplotlib.animation import FuncAnimation"
   ]
  },
  {
   "cell_type": "code",
   "execution_count": 5,
   "id": "extraordinary-classics",
   "metadata": {
    "execution": {
     "iopub.execute_input": "2021-09-05T04:19:33.188530Z",
     "iopub.status.busy": "2021-09-05T04:19:33.188530Z",
     "iopub.status.idle": "2021-09-05T04:19:33.303660Z",
     "shell.execute_reply": "2021-09-05T04:19:33.302642Z",
     "shell.execute_reply.started": "2021-09-05T04:19:33.188530Z"
    },
    "tags": []
   },
   "outputs": [],
   "source": [
    "import cv2\n",
    "import os"
   ]
  },
  {
   "cell_type": "code",
   "execution_count": 14,
   "id": "baking-wings",
   "metadata": {
    "execution": {
     "iopub.execute_input": "2021-09-05T04:32:17.409875Z",
     "iopub.status.busy": "2021-09-05T04:32:17.409186Z",
     "iopub.status.idle": "2021-09-05T04:32:17.663328Z",
     "shell.execute_reply": "2021-09-05T04:32:17.663328Z",
     "shell.execute_reply.started": "2021-09-05T04:32:17.409186Z"
    },
    "tags": []
   },
   "outputs": [
    {
     "data": {
      "text/plain": [
       "(-1.1, 1.1, -1.1, 1.1)"
      ]
     },
     "execution_count": 14,
     "metadata": {},
     "output_type": "execute_result"
    },
    {
     "data": {
      "image/png": "[encoded data removed]",
      "text/plain": [
       "<Figure size 864x432 with 2 Axes>"
      ]
     },
     "metadata": {
      "needs_background": "light"
     },
     "output_type": "display_data"
    }
   ],
   "source": [
    "Ts = 0.125\n",
    "t = np.arange(0, 1 + Ts, Ts)\n",
    "ang = np.linspace(0, 2 * np.pi, 360)\n",
    "xcirc, ycirc = np.cos(ang), np.sin(ang)\n",
    "freq = 5.0\n",
    "outdir = \"_temp\"\n",
    "\n",
    "fig = figure(figsize=(12, 6))\n",
    "ax = fig.add_subplot(121)\n",
    "ax.plot(xcirc, ycirc, lw=1, color=\"tab:blue\")\n",
    "ax.axhline(0, lw=1, color=\"k\", alpha=0.3)\n",
    "ax.axvline(0, lw=1, color=\"k\", alpha=0.3)\n",
    "ax.plot(np.cos(2 * np.pi * t), np.sin(2 * np.pi * t), 'o', color=\"tab:red\")\n",
    "ax.plot([0, np.cos(2 * np.pi * Ts)],\n",
    "        [0, np.sin(2 * np.pi * Ts)], color=\"k\")\n",
    "\n",
    "# Movement1\n",
    "_t = np.arange(0, 0.25 * np.pi, 0.01)\n",
    "_r = 0.2\n",
    "_x1, _y1 = _r * np.cos(_t), _r * np.sin(_t)\n",
    "\n",
    "ax.plot(_x1, _y1, lw=1, color='k')\n",
    "ax.axis(\"off\")\n",
    "\n",
    "ax = fig.add_subplot(122)\n",
    "ax.plot(xcirc, ycirc, lw=1, color=\"tab:blue\")\n",
    "ax.axhline(0, lw=1, color=\"k\", alpha=0.3)\n",
    "ax.axvline(0, lw=1, color=\"k\", alpha=0.3)\n",
    "ax.plot(np.cos(2 * np.pi * t), np.sin(2 * np.pi * t), 'o', color=\"tab:red\")\n",
    "ax.plot([0, np.cos(2 * np.pi * Ts)],\n",
    "        [0, np.sin(2 * np.pi * Ts)], color=\"k\")\n",
    "\n",
    "# Movement 2\n",
    "_t = np.arange(0, 2.25 * np.pi, 0.01)\n",
    "_r = (0.2 + 0.02 * _t)\n",
    "_x2, _y2 = _r * np.cos(_t), _r * np.sin(_t)\n",
    "\n",
    "ax.plot(_x2, _y2, lw=1, color='k')\n",
    "ax.axis(\"off\")"
   ]
  },
  {
   "cell_type": "code",
   "execution_count": 26,
   "id": "regular-prototype",
   "metadata": {
    "execution": {
     "iopub.execute_input": "2021-09-04T15:39:49.139428Z",
     "iopub.status.busy": "2021-09-04T15:39:49.139428Z",
     "iopub.status.idle": "2021-09-04T15:39:51.933260Z",
     "shell.execute_reply": "2021-09-04T15:39:51.931919Z",
     "shell.execute_reply.started": "2021-09-04T15:39:49.139428Z"
    },
    "tags": []
   },
   "outputs": [],
   "source": [
    "image_folder = '_temp'\n",
    "video_name = 'video.avi'\n",
    "\n",
    "images = [img for img in os.listdir(image_folder) if img.endswith(\".png\")]\n",
    "frame = cv2.imread(os.path.join(image_folder, images[0]))\n",
    "height, width, layers = frame.shape\n",
    "\n",
    "video = cv2.VideoWriter(video_name, 0, 60, (width,height))\n",
    "\n",
    "for image in images:\n",
    "    video.write(cv2.imread(os.path.join(image_folder, image)))\n",
    "\n",
    "cv2.destroyAllWindows()\n",
    "video.release()"
   ]
  },
  {
   "cell_type": "code",
   "execution_count": null,
   "id": "level-henry",
   "metadata": {},
   "outputs": [],
   "source": []
  },
  {
   "cell_type": "code",
   "execution_count": null,
   "id": "existing-cornell",
   "metadata": {},
   "outputs": [],
   "source": []
  },
  {
   "cell_type": "code",
   "execution_count": 13,
   "id": "intense-albany",
   "metadata": {
    "execution": {
     "iopub.execute_input": "2021-09-04T07:28:57.979022Z",
     "iopub.status.busy": "2021-09-04T07:28:57.979022Z",
     "iopub.status.idle": "2021-09-04T07:29:27.545153Z",
     "shell.execute_reply": "2021-09-04T07:29:27.545153Z",
     "shell.execute_reply.started": "2021-09-04T07:28:57.979022Z"
    },
    "tags": []
   },
   "outputs": [
    {
     "name": "stderr",
     "output_type": "stream",
     "text": [
      "MovieWriter Pillow unavailable; using Pillow instead.\n"
     ]
    },
    {
     "data": {
      "image/png": "[encoded data removed]",
      "text/plain": [
       "<Figure size 432x288 with 1 Axes>"
      ]
     },
     "metadata": {
      "needs_background": "light"
     },
     "output_type": "display_data"
    }
   ],
   "source": [
    "fig = plt.figure(dpi=300)\n",
    "ax.axis(\"off\")\n",
    "ax = plt.axes(xlim=(0, 4), ylim=(-2, 2))\n",
    "ax.set_title(\"Test\")\n",
    "line, = ax.plot([], [], lw=3)\n",
    "\n",
    "def init():\n",
    "    line.set_data([], [])\n",
    "    plt.box(False)\n",
    "    return line,\n",
    "\n",
    "def animate(i):\n",
    "    x = np.linspace(0, 4, 1000)\n",
    "    y = np.sin(2 * np.pi * (x - 0.01 * i))\n",
    "    line.set_data(x, y)\n",
    "    ax.axis(\"off\")\n",
    "    ax.text(0, 0, \"sdhasdg\")\n",
    "    return line,\n",
    "\n",
    "anim = FuncAnimation(fig, animate, init_func=init,\n",
    "                     frames=200, interval=20, blit=True)\n",
    "\n",
    "anim.save('sine_wave1.gif', writer='Pillow')"
   ]
  },
  {
   "cell_type": "code",
   "execution_count": null,
   "id": "lyric-schema",
   "metadata": {},
   "outputs": [],
   "source": []
  }
 ],
 "metadata": {
  "kernelspec": {
   "display_name": "Python 3",
   "language": "python",
   "name": "python3"
  },
  "language_info": {
   "codemirror_mode": {
    "name": "ipython",
    "version": 3
   },
   "file_extension": ".py",
   "mimetype": "text/x-python",
   "name": "python",
   "nbconvert_exporter": "python",
   "pygments_lexer": "ipython3",
   "version": "3.7.10"
  }
 },
 "nbformat": 4,
 "nbformat_minor": 5
}
